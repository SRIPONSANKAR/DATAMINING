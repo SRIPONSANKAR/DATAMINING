{
  "nbformat": 4,
  "nbformat_minor": 0,
  "metadata": {
    "colab": {
      "provenance": [],
      "mount_file_id": "18b11LDjzb6jGyb0ReopVqERxp-RgNbca",
      "authorship_tag": "ABX9TyM8ba0bkYyApV+7RK+5X+l/",
      "include_colab_link": true
    },
    "kernelspec": {
      "name": "python3",
      "display_name": "Python 3"
    },
    "language_info": {
      "name": "python"
    }
  },
  "cells": [
    {
      "cell_type": "markdown",
      "metadata": {
        "id": "view-in-github",
        "colab_type": "text"
      },
      "source": [
        "<a href=\"https://colab.research.google.com/github/SRIPONSANKAR/DATAMINING/blob/main/Copy_of_DATA_CLEANNING.ipynb\" target=\"_parent\"><img src=\"https://colab.research.google.com/assets/colab-badge.svg\" alt=\"Open In Colab\"/></a>"
      ]
    },
    {
      "cell_type": "code",
      "execution_count": null,
      "metadata": {
        "id": "QgNQKgO_4sNp"
      },
      "outputs": [],
      "source": [
        "import pandas as pd\n",
        "import numpy as np"
      ]
    },
    {
      "cell_type": "code",
      "source": [
        "file_path='/content/drive/MyDrive/5th SEM/DATA MINING/games.csv'\n",
        "\n",
        "df=pd.read_csv(file_path, encoding='latin-1')\n",
        "print(df)"
      ],
      "metadata": {
        "colab": {
          "base_uri": "https://localhost:8080/"
        },
        "id": "LtQhxNyP5ML0",
        "outputId": "2e9400d1-095f-44c7-a9f7-47495e546814"
      },
      "execution_count": null,
      "outputs": [
        {
          "output_type": "stream",
          "name": "stdout",
          "text": [
            "      AppID                              name  required_age  price  dlc_count  \\\n",
            "0       730                  Counter-Strike 2             0   0.00          1   \n",
            "1    578080               PUBG: BATTLEGROUNDS             0   0.00          0   \n",
            "2       570                            Dota 2             0   0.00          2   \n",
            "3    271590                Grand Theft Auto V            17   0.00          1   \n",
            "4    359550  Tom Clancy's Rainbow Six?? Siege            17  19.99          9   \n",
            "..      ...                               ...           ...    ...        ...   \n",
            "94  1468810     ª¬øú?®? Tale of Immortal             0  19.99          2   \n",
            "95    49520                     Borderlands 2            17  19.99          5   \n",
            "96   632360                    Risk of Rain 2             0  24.99          4   \n",
            "97    72850       The Elder Scrolls V: Skyrim            17  19.99          1   \n",
            "98  1238810                  Battlefield? V            17  49.99          2   \n",
            "\n",
            "    metacritic_score  achievements  recommendations  pct_pos_total  \\\n",
            "0                  0             1          4111974             87   \n",
            "1                  0            37          1701431             58   \n",
            "2                 90             0            14329             81   \n",
            "3                 96            77          1641404             87   \n",
            "4                  0             0          1088708             85   \n",
            "..               ...           ...              ...            ...   \n",
            "94                 0           169           188472             53   \n",
            "95                89            75           193698             95   \n",
            "96                85           118           183093             96   \n",
            "97                94            75           180955             94   \n",
            "98                 0            21           179931             70   \n",
            "\n",
            "    Unnamed: 9  ...  Unnamed: 207  Unnamed: 208  Unnamed: 209  Unnamed: 210  \\\n",
            "0          NaN  ...           NaN           NaN           NaN           NaN   \n",
            "1          NaN  ...           NaN           NaN           NaN           NaN   \n",
            "2          NaN  ...           NaN           NaN           NaN           NaN   \n",
            "3          NaN  ...           NaN           NaN           NaN           NaN   \n",
            "4          NaN  ...           NaN           NaN           NaN           NaN   \n",
            "..         ...  ...           ...           ...           ...           ...   \n",
            "94         NaN  ...           NaN           NaN           NaN           NaN   \n",
            "95         NaN  ...           NaN           NaN           NaN           NaN   \n",
            "96         NaN  ...           NaN           NaN           NaN           NaN   \n",
            "97         NaN  ...           NaN           NaN           NaN           NaN   \n",
            "98         NaN  ...           NaN           NaN           NaN           NaN   \n",
            "\n",
            "    Unnamed: 211  Unnamed: 212  Unnamed: 213  Unnamed: 214  Unnamed: 215  \\\n",
            "0            NaN           NaN           NaN           NaN           NaN   \n",
            "1            NaN           NaN           NaN           NaN           NaN   \n",
            "2            NaN           NaN           NaN           NaN           NaN   \n",
            "3            NaN           NaN           NaN           NaN           NaN   \n",
            "4            NaN           NaN           NaN           NaN           NaN   \n",
            "..           ...           ...           ...           ...           ...   \n",
            "94           NaN           NaN           NaN           NaN           NaN   \n",
            "95           NaN           NaN           NaN           NaN           NaN   \n",
            "96           NaN           NaN           NaN           NaN           NaN   \n",
            "97           NaN           NaN           NaN           NaN           NaN   \n",
            "98           NaN           NaN           NaN           NaN           NaN   \n",
            "\n",
            "    Unnamed: 216  \n",
            "0            NaN  \n",
            "1            NaN  \n",
            "2            NaN  \n",
            "3            NaN  \n",
            "4            NaN  \n",
            "..           ...  \n",
            "94           NaN  \n",
            "95           NaN  \n",
            "96           NaN  \n",
            "97           NaN  \n",
            "98           NaN  \n",
            "\n",
            "[99 rows x 217 columns]\n"
          ]
        }
      ]
    },
    {
      "cell_type": "code",
      "source": [
        "df.duplicated().sum()\n"
      ],
      "metadata": {
        "colab": {
          "base_uri": "https://localhost:8080/"
        },
        "id": "kpeVoZVr127L",
        "outputId": "2a9c1bca-86e1-495d-a97d-f2c68b040b1b"
      },
      "execution_count": null,
      "outputs": [
        {
          "output_type": "execute_result",
          "data": {
            "text/plain": [
              "0"
            ]
          },
          "metadata": {},
          "execution_count": 7
        }
      ]
    },
    {
      "cell_type": "code",
      "source": [
        "df.isnull().sum()"
      ],
      "metadata": {
        "colab": {
          "base_uri": "https://localhost:8080/"
        },
        "id": "sjvl8JB256M0",
        "outputId": "1ab670c9-f28b-4e31-a6a7-d1292dccc7d2"
      },
      "execution_count": null,
      "outputs": [
        {
          "output_type": "execute_result",
          "data": {
            "text/plain": [
              "AppID            0\n",
              "name             0\n",
              "required_age     0\n",
              "price            0\n",
              "dlc_count        0\n",
              "                ..\n",
              "Unnamed: 212    99\n",
              "Unnamed: 213    99\n",
              "Unnamed: 214    99\n",
              "Unnamed: 215    99\n",
              "Unnamed: 216    99\n",
              "Length: 217, dtype: int64"
            ]
          },
          "metadata": {},
          "execution_count": 3
        }
      ]
    },
    {
      "cell_type": "code",
      "source": [
        "import pandas as pd\n",
        "column_name=\"AppID\"\n",
        "try:\n",
        "\n",
        "  df[column_name] = pd.to_numeric(df[column_name], errors='coerce')\n",
        "  sort_value=np.sort(df[column_name].values)\n",
        "  print(sort_value)\n",
        "except ValueError:\n",
        "  print(\"error\")"
      ],
      "metadata": {
        "colab": {
          "base_uri": "https://localhost:8080/"
        },
        "id": "FkP5FwfC6A1y",
        "outputId": "3e92cfe7-fdbf-4481-ec90-b6b81a64d632"
      },
      "execution_count": null,
      "outputs": [
        {
          "output_type": "stream",
          "name": "stdout",
          "text": [
            "[    440     550     570     620     730    4000   49520   72850  105600\n",
            "  108600  218620  221100  227300  230410  236390  238960  239140  242760\n",
            "  250900  251570  252490  252950  255710  261550  264710  271590  275850\n",
            "  284160  289070  291550  292030  304930  322170  322330  346110  359550\n",
            "  367520  374320  377160  381210  391540  394360  413150  433850  438100\n",
            "  444090  548430  553850  578080  582010  585560  632360  648800  698780\n",
            "  700330  739630  814380  892970  945360  960090  976730  990080 1063730\n",
            " 1085660 1086940 1091500 1097150 1118200 1145360 1172470 1172620 1174180\n",
            " 1203220 1237970 1238810 1245620 1293830 1468810 1517290 1599340 1623730\n",
            " 1794680 1938090 1966720 2010440 2110070 2253490 2271480 2304250 2357570\n",
            " 2494100 2514940 2578550 2581680 2584190 2587440 2613460 2652950 2718080]\n"
          ]
        }
      ]
    },
    {
      "cell_type": "code",
      "source": [
        "import pandas as pd\n",
        "import numpy as np\n",
        "\n",
        "num_bins = 2\n",
        "bin_size = len(sort_value) // num_bins\n",
        "if bin_size == 0:\n",
        "    num_bins = 1\n",
        "bin_mean = np.zeros(num_bins)\n",
        "bin_boundaries = np.zeros((num_bins, bin_size))\n",
        "bin_median = np.zeros(num_bins)\n",
        "\n",
        "\n",
        "sort_value_datetime = sort_value.astype('datetime64[s]')\n",
        "\n",
        "for i in range(num_bins):\n",
        "    start = i * bin_size\n",
        "    end = (i + 1) * bin_size\n",
        "\n",
        "    timestamps = (sort_value_datetime[start:end] - np.datetime64('1970-01-01T00:00:00Z')) / np.timedelta64(1, 's')\n",
        "    bin_mean[i] = np.mean(timestamps)\n",
        "    bin_mean_datetime = pd.to_datetime(bin_mean[i] * 1e9)\n",
        "    print(\"Bin mean (datetime):\", bin_mean_datetime)\n",
        "\n",
        "    for j in range(bin_size):\n",
        "\n",
        "        if (sort_value[start + j] - sort_value[start]) < (sort_value[start + bin_size - 1] - sort_value[start + j]):\n",
        "            bin_boundaries[i, j] = sort_value[start]\n",
        "        else:\n",
        "            bin_boundaries[i, j] = sort_value[start + bin_size - 1]\n",
        "    print(\"Bin boundary:\",bin_boundaries[i])\n",
        "\n",
        "    timestamps_median = (sort_value_datetime[start:end] - np.datetime64('1970-01-01T00:00:00Z')) / np.timedelta64(1, 's')\n",
        "    bin_median[i] = np.median(timestamps_median)\n",
        "print(\"Bin median:\\n\", bin_median)"
      ],
      "metadata": {
        "colab": {
          "base_uri": "https://localhost:8080/"
        },
        "id": "RhECf9ni6umU",
        "outputId": "f114d86b-0d96-4f5b-d221-09d952a4b13d"
      },
      "execution_count": null,
      "outputs": [
        {
          "output_type": "stream",
          "name": "stdout",
          "text": [
            "Bin mean (datetime): 1970-01-04 01:56:24.489795918\n",
            "Bin boundary: [4.4000e+02 4.4000e+02 4.4000e+02 4.4000e+02 4.4000e+02 4.4000e+02\n",
            " 4.4000e+02 4.4000e+02 4.4000e+02 4.4000e+02 4.4000e+02 4.4000e+02\n",
            " 4.4000e+02 4.4000e+02 4.4000e+02 4.4000e+02 4.4000e+02 4.4000e+02\n",
            " 4.4000e+02 4.4000e+02 4.4000e+02 4.4000e+02 4.4000e+02 4.4000e+02\n",
            " 4.4000e+02 4.4000e+02 4.4000e+02 4.4000e+02 4.4000e+02 5.7808e+05\n",
            " 5.7808e+05 5.7808e+05 5.7808e+05 5.7808e+05 5.7808e+05 5.7808e+05\n",
            " 5.7808e+05 5.7808e+05 5.7808e+05 5.7808e+05 5.7808e+05 5.7808e+05\n",
            " 5.7808e+05 5.7808e+05 5.7808e+05 5.7808e+05 5.7808e+05 5.7808e+05\n",
            " 5.7808e+05]\n",
            "Bin mean (datetime): 1970-01-18 08:11:58.571428571\n",
            "Bin boundary: [ 582010.  582010.  582010.  582010.  582010.  582010.  582010.  582010.\n",
            "  582010.  582010.  582010.  582010.  582010.  582010.  582010.  582010.\n",
            "  582010.  582010.  582010.  582010.  582010.  582010.  582010.  582010.\n",
            "  582010.  582010.  582010.  582010.  582010.  582010.  582010. 2652950.\n",
            " 2652950. 2652950. 2652950. 2652950. 2652950. 2652950. 2652950. 2652950.\n",
            " 2652950. 2652950. 2652950. 2652950. 2652950. 2652950. 2652950. 2652950.\n",
            " 2652950.]\n",
            "Bin median:\n",
            " [ 264710. 1237970.]\n"
          ]
        },
        {
          "output_type": "stream",
          "name": "stderr",
          "text": [
            "<ipython-input-22-3854bbb7997d>:19: DeprecationWarning: parsing timezone aware datetimes is deprecated; this will raise an error in the future\n",
            "  timestamps = (sort_value_datetime[start:end] - np.datetime64('1970-01-01T00:00:00Z')) / np.timedelta64(1, 's')\n",
            "<ipython-input-22-3854bbb7997d>:32: DeprecationWarning: parsing timezone aware datetimes is deprecated; this will raise an error in the future\n",
            "  timestamps_median = (sort_value_datetime[start:end] - np.datetime64('1970-01-01T00:00:00Z')) / np.timedelta64(1, 's')\n"
          ]
        }
      ]
    }
  ]
}